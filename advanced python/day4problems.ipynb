{
 "cells": [
  {
   "cell_type": "markdown",
   "metadata": {},
   "source": [
    "Function to reverse a string in python"
   ]
  },
  {
   "cell_type": "code",
   "execution_count": 2,
   "metadata": {},
   "outputs": [
    {
     "data": {
      "text/plain": [
       "'enalporea'"
      ]
     },
     "execution_count": 2,
     "metadata": {},
     "output_type": "execute_result"
    }
   ],
   "source": [
    "newString = \"aeroplane\"\n",
    "rString = \"\"\n",
    "rString.join(reversed(newString))"
   ]
  },
  {
   "cell_type": "code",
   "execution_count": 7,
   "metadata": {},
   "outputs": [
    {
     "data": {
      "text/plain": [
       "'enalporea'"
      ]
     },
     "execution_count": 7,
     "metadata": {},
     "output_type": "execute_result"
    }
   ],
   "source": [
    "newString[::-1]"
   ]
  },
  {
   "cell_type": "markdown",
   "metadata": {},
   "source": [
    "Program to find palindrome"
   ]
  },
  {
   "cell_type": "code",
   "execution_count": 13,
   "metadata": {},
   "outputs": [
    {
     "name": "stdout",
     "output_type": "stream",
     "text": [
      "The string is a Palindrome\n"
     ]
    }
   ],
   "source": [
    "def isPalindrome(s):\n",
    "    return (s[::-1] == s)\n",
    "\n",
    "newString=\"malayalam\"\n",
    "if(isPalindrome(newString)):\n",
    "    print(\"The string is a Palindrome\")\n",
    "else:\n",
    "    print(\"The string is not a Palindrome\")"
   ]
  },
  {
   "cell_type": "code",
   "execution_count": 21,
   "metadata": {},
   "outputs": [
    {
     "name": "stdout",
     "output_type": "stream",
     "text": [
      "The string is a Palindrome\n"
     ]
    }
   ],
   "source": [
    "def isPalindrome(s):\n",
    "    length = len(s)\n",
    "    rString=\"\"\n",
    "    for i in range(length):\n",
    "        if(s[i] != s[length-i-1]):\n",
    "            return False\n",
    "    return True\n",
    "    \n",
    "\n",
    "newString=\"malayalam\"\n",
    "if(isPalindrome(newString)):\n",
    "    print(\"The string is a Palindrome\")\n",
    "else:\n",
    "    print(\"The string is not a Palindrome\")"
   ]
  }
 ],
 "metadata": {
  "kernelspec": {
   "display_name": "Python 3.10.7 64-bit (microsoft store)",
   "language": "python",
   "name": "python3"
  },
  "language_info": {
   "codemirror_mode": {
    "name": "ipython",
    "version": 3
   },
   "file_extension": ".py",
   "mimetype": "text/x-python",
   "name": "python",
   "nbconvert_exporter": "python",
   "pygments_lexer": "ipython3",
   "version": "3.10.7"
  },
  "orig_nbformat": 4,
  "vscode": {
   "interpreter": {
    "hash": "af8cf8b9979321d81a6581f1f5e6c9a2bf91020517c84d5f4f6fa5b1ea59c327"
   }
  }
 },
 "nbformat": 4,
 "nbformat_minor": 2
}
